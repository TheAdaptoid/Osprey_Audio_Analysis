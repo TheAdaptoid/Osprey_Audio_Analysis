{
 "cells": [
  {
   "cell_type": "code",
   "execution_count": 46,
   "id": "aa70d0c9",
   "metadata": {},
   "outputs": [],
   "source": [
    "import numpy as np\n",
    "import pandas as pd\n",
    "import matplotlib.pyplot as plt\n",
    "import seaborn as sns\n",
    "\n",
    "from sklearn.cluster import KMeans, DBSCAN\n",
    "from sklearn.preprocessing import StandardScaler\n",
    "df = pd.read_csv('cleaned_dataset.csv')\n"
   ]
  },
  {
   "cell_type": "code",
   "execution_count": 60,
   "id": "191536a9",
   "metadata": {},
   "outputs": [],
   "source": [
    "df.head\n",
    "df.sort_values(by=['track_genre'])\n",
    "df.track_genre == 'acoustic'\n",
    "df = df[df.track_genre == 'acoustic']"
   ]
  },
  {
   "cell_type": "code",
   "execution_count": null,
   "id": "0a55f7b0",
   "metadata": {},
   "outputs": [
    {
     "name": "stdout",
     "output_type": "stream",
     "text": [
      "Empty DataFrame\n",
      "Columns: [Unnamed: 0.1, Unnamed: 0, popularity, duration_s, explicit, danceability, energy, key, loudness, mode, speechiness, acousticness, instrumentalness, liveness, valence, tempo, time_signature, track_genre]\n",
      "Index: []\n"
     ]
    }
   ],
   "source": [
    "df.head\n",
    "df.sort_values(by=['track_genre'])\n",
    "index_names = df[ df['track_genre'] == 'acoustic' ].index\n",
    "df.drop(index_names, inplace = True) \n",
    "#df.track_genre == 'acoustic'\n",
    "#df[df.track_genre == 'acoustic']"
   ]
  }
 ],
 "metadata": {
  "kernelspec": {
   "display_name": "base",
   "language": "python",
   "name": "python3"
  },
  "language_info": {
   "codemirror_mode": {
    "name": "ipython",
    "version": 3
   },
   "file_extension": ".py",
   "mimetype": "text/x-python",
   "name": "python",
   "nbconvert_exporter": "python",
   "pygments_lexer": "ipython3",
   "version": "3.12.7"
  }
 },
 "nbformat": 4,
 "nbformat_minor": 5
}
